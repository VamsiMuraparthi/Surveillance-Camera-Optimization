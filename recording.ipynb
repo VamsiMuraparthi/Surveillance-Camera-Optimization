{
 "cells": [
  {
   "cell_type": "code",
   "execution_count": null,
   "id": "1783c262",
   "metadata": {},
   "outputs": [],
   "source": [
    "import cv2\n",
    "import time\n",
    "import threading\n",
    "\n",
    "def recording() :\n",
    "    filename = int(time.time())\n",
    "    video_object = cv2.VideoCapture(0)\n",
    "    video_record = cv2.VideoWriter_fourcc(*'XVID')\n",
    "    output_video = cv2.VideoWriter(\"%s.mp4\" % filename, video_record, 20.0, (640,480))\n",
    "    start_time = time.time()\n",
    "    capture_duration = 30\n",
    "    while( int(time.time() - start_time) < capture_duration ) :\n",
    "        check, current_frame = video_object.read()\n",
    "        if check == True :\n",
    "            output_video.write(current_frame)\n",
    "        else:\n",
    "            break\n",
    "            \n",
    "if __name__ == \"__main__\":\n",
    "    recording()"
   ]
  }
 ],
 "metadata": {
  "kernelspec": {
   "display_name": "Python 3 (ipykernel)",
   "language": "python",
   "name": "python3"
  },
  "language_info": {
   "codemirror_mode": {
    "name": "ipython",
    "version": 3
   },
   "file_extension": ".py",
   "mimetype": "text/x-python",
   "name": "python",
   "nbconvert_exporter": "python",
   "pygments_lexer": "ipython3",
   "version": "3.7.9"
  }
 },
 "nbformat": 4,
 "nbformat_minor": 5
}
