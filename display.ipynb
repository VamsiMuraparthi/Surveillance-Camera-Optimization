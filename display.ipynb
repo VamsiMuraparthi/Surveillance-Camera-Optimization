{
 "cells": [
  {
   "cell_type": "code",
   "execution_count": 2,
   "id": "0b529f53",
   "metadata": {},
   "outputs": [],
   "source": [
    "import cv2\n",
    "import time\n",
    "def display ():\n",
    "    initial_static_back = None\n",
    "    video_object = cv2.VideoCapture(0)\n",
    "    while True:\n",
    "        check, live_frame = video_object.read()\n",
    "        is_motion_detected = 0\n",
    "        gray = cv2.cvtColor(live_frame, cv2.COLOR_BGR2GRAY)\n",
    "        gray1 = cv2.GaussianBlur(gray, (21, 21), 0)\n",
    "        if initial_static_back is None:\n",
    "            initial_static_back = gray\n",
    "            continue\n",
    "\n",
    "        difference_frame = cv2.absdiff(initial_static_back, gray1)\n",
    "    \n",
    "        threshold_frame = cv2.threshold(difference_frame, 30, 255, cv2.THRESH_BINARY)[1]\n",
    "        threshold_frame = cv2.dilate(threshold_frame, None, iterations = 2)\n",
    "        cnts, hierarchy = cv2.findContours(threshold_frame, cv2.RETR_EXTERNAL, cv2.CHAIN_APPROX_NONE)\n",
    "        \n",
    "        for contour in cnts:\n",
    "            if cv2.contourArea(contour) < 10000:\n",
    "                continue\n",
    "            is_motion_detected = 1\n",
    "            (x, y, w, h) = cv2.boundingRect(contour)\n",
    "        \n",
    "            cv2.rectangle(live_frame, (x, y), (x + w, y + h), (0, 255, 255), 3)\n",
    "        \n",
    "        cv2.imshow(\"Gray Frame\", gray)\n",
    "        cv2.imshow(\"Difference Frame\", difference_frame)\n",
    "        cv2.imshow(\"Threshold Frame\", threshold_frame)\n",
    "        cv2.imshow(\"Color Frame\", live_frame)\n",
    "    \n",
    "        key = cv2.waitKey(1)\n",
    "        if key == ord('e') or key == ord('q'):\n",
    "            break\n",
    "    video_object.release()\n",
    "    cv2.destroyAllWindows()\n",
    "if __name__ == \"__main__\":\n",
    "    display()\n"
   ]
  },
  {
   "cell_type": "code",
   "execution_count": null,
   "id": "43f76f5b",
   "metadata": {},
   "outputs": [],
   "source": []
  }
 ],
 "metadata": {
  "kernelspec": {
   "display_name": "Python 3 (ipykernel)",
   "language": "python",
   "name": "python3"
  },
  "language_info": {
   "codemirror_mode": {
    "name": "ipython",
    "version": 3
   },
   "file_extension": ".py",
   "mimetype": "text/x-python",
   "name": "python",
   "nbconvert_exporter": "python",
   "pygments_lexer": "ipython3",
   "version": "3.7.9"
  }
 },
 "nbformat": 4,
 "nbformat_minor": 5
}
